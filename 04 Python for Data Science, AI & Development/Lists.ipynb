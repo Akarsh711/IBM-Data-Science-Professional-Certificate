{
  "metadata": {
    "kernelspec": {
      "name": "python",
      "display_name": "Python (Pyodide)",
      "language": "python"
    },
    "language_info": {
      "codemirror_mode": {
        "name": "python",
        "version": 3
      },
      "file_extension": ".py",
      "mimetype": "text/x-python",
      "name": "python",
      "nbconvert_exporter": "python",
      "pygments_lexer": "ipython3",
      "version": "3.8"
    },
    "colab": {
      "provenance": [],
      "include_colab_link": true
    }
  },
  "nbformat_minor": 0,
  "nbformat": 4,
  "cells": [
    {
      "cell_type": "markdown",
      "metadata": {
        "id": "view-in-github",
        "colab_type": "text"
      },
      "source": [
        "<a href=\"https://colab.research.google.com/github/shivamtomershiv/IBM-Data-Science-Professional-Certificate/blob/main/04%20Python%20for%20Data%20Science%2C%20AI%20%26%20Development/Lists.ipynb\" target=\"_parent\"><img src=\"https://colab.research.google.com/assets/colab-badge.svg\" alt=\"Open In Colab\"/></a>"
      ]
    },
    {
      "cell_type": "markdown",
      "source": [
        "<center>\n",
        "    <img src=\"https://cf-courses-data.s3.us.cloud-object-storage.appdomain.cloud/IBMDeveloperSkillsNetwork-PY0101EN-SkillsNetwork/IDSNlogo.png\" width=\"300\" alt=\"cognitiveclass.ai logo\">\n",
        "</center>\n",
        "\n",
        "# Lists in Python\n",
        "\n",
        "Estimated time needed: **30** minutes\n",
        "\n",
        "## Objectives\n",
        "\n",
        "After completing this lab you will be able to:\n",
        "\n",
        "*   Perform list operations in Python, including indexing, list manipulation, and copy/clone list.\n"
      ],
      "metadata": {
        "id": "RI40BVL5IKI9"
      }
    },
    {
      "cell_type": "markdown",
      "source": [
        "<h2>Table of Contents</h2>\n",
        "<div class=\"alert alert-block alert-info\" style=\"margin-thttps://op/?utm_medium=Exinfluencer&utm_source=Exinfluencer&utm_https://co/?utm_medium=Exinfluencer&utm_source=Exinfluencer&utm_content=000026UJ&utm_term=10006555&utm_id=NA-SkillsNetwork-Channel-SkillsNetworkCoursesIBMDeveloperSkillsNetworkPY0101ENSkillsNetwork19487395-2021-01-01ntent=000026UJ&utm_term=10006555&utm_id=NA-SkillsNetwork-Channel-SkillsNetworkCoursesIBMDeveloperSkillsNetworkPY0101ENSkillsNetwork19487395-2021-01-01: 20px\">\n",
        "    <ul>\n",
        "        <li>\n",
        "            <a href=\"#dataset\">About the Dataset</a>\n",
        "        </li>\n",
        "        <li>\n",
        "            <a href=\"#list\">Lists</a>\n",
        "            <ul>\n",
        "                <li><a href=\"#index\">Indexing</a></li>\n",
        "                <li><a href=\"#content\">List Content</a></li>\n",
        "                <li><a href=\"#op\">List Operations</a></li>\n",
        "                <li><a href=\"#co\">Copy and Clone List</a></li>\n",
        "            </ul>\n",
        "        </li>\n",
        "        <li>\n",
        "            <a href=\"#quiz\">Quiz on Lists</a>\n",
        "        </li>\n",
        "        <li>\n",
        "            <a href=\"#Scenario\">Scenario:Shopping List </a></li>\n",
        "    </ul>\n",
        "\n",
        "</div>\n",
        "\n",
        "<hr>\n"
      ],
      "metadata": {
        "id": "HMMkZQ2sIKJB"
      }
    },
    {
      "cell_type": "markdown",
      "source": [
        "<a id=\"dataset\"></a>\n",
        "## About the Dataset\n"
      ],
      "metadata": {
        "id": "6ij_9YuPIKJC"
      }
    },
    {
      "cell_type": "markdown",
      "source": [
        "Imagine you received album recommendations from your friends and compiled all of the recommandations into a table, with specific information about each album.\n",
        "\n",
        "The table has one row for each movie and several columns:\n",
        "\n",
        "*   **Artist** - Name of the artist\n",
        "*   **Album** - Name of the album\n",
        "*   **Released_year** - Year the album was released\n",
        "*   **Length_min_sec** - Length of the album (hours,minutes,seconds)\n",
        "*   **Genre** - Genre of the album\n",
        "*   **Music_recording_sales_millions** - Music recording sales (millions in USD) on [SONG://DATABASE](http://www.song-database.com/?utm_medium=Exinfluencer&utm_source=Exinfluencer&utm_content=000026UJ&utm_term=10006555&utm_id=NA-SkillsNetwork-Channel-SkillsNetworkCoursesIBMDeveloperSkillsNetworkPY0101ENSkillsNetwork19487395-2021-01-01)\n",
        "*   **Claimed_sales_millions** - Album's claimed sales (millions in USD) on [SONG://DATABASE](http://www.song-database.com/?utm_medium=Exinfluencer&utm_source=Exinfluencer&utm_content=000026UJ&utm_term=10006555&utm_id=NA-SkillsNetwork-Channel-SkillsNetworkCoursesIBMDeveloperSkillsNetworkPY0101ENSkillsNetwork19487395-2021-01-01)\n",
        "*   **Released** - Date on which the album was released\n",
        "*   **Soundtrack** - Indicates if the album is the movie soundtrack (Y) or (N)\n",
        "*   **Rating_of_friends** - Indicates the rating from your friends from 1 to 10\n",
        "\n",
        "<br>\n",
        "<br>\n",
        "\n",
        "The Dataset can be seen below:\n",
        "\n",
        "<font size=\"1\">\n",
        "<table font-size:xx-small>\n",
        "  <tr>\n",
        "    <th>Artist</th>\n",
        "    <th>Album</th>\n",
        "    <th>Released</th>\n",
        "    <th>Length</th>\n",
        "    <th>Genre</th>\n",
        "    <th>Music recording sales (millions)</th>\n",
        "    <th>Claimed sales (millions)</th>\n",
        "    <th>Released</th>\n",
        "    <th>Soundtrack</th>\n",
        "    <th>Rating (friends)</th>\n",
        "  </tr>\n",
        "  <tr>\n",
        "    <td>Michael Jackson</td>\n",
        "    <td>Thriller</td>\n",
        "    <td>1982</td>\n",
        "    <td>00:42:19</td>\n",
        "    <td>Pop, rock, R&B</td>\n",
        "    <td>46</td>\n",
        "    <td>65</td>\n",
        "    <td>30-Nov-82</td>\n",
        "    <td></td>\n",
        "    <td>10.0</td>\n",
        "  </tr>\n",
        "  <tr>\n",
        "    <td>AC/DC</td>\n",
        "    <td>Back in Black</td>\n",
        "    <td>1980</td>\n",
        "    <td>00:42:11</td>\n",
        "    <td>Hard rock</td>\n",
        "    <td>26.1</td>\n",
        "    <td>50</td>\n",
        "    <td>25-Jul-80</td>\n",
        "    <td></td>\n",
        "    <td>8.5</td>\n",
        "  </tr>\n",
        "    <tr>\n",
        "    <td>Pink Floyd</td>\n",
        "    <td>The Dark Side of the Moon</td>\n",
        "    <td>1973</td>\n",
        "    <td>00:42:49</td>\n",
        "    <td>Progressive rock</td>\n",
        "    <td>24.2</td>\n",
        "    <td>45</td>\n",
        "    <td>01-Mar-73</td>\n",
        "    <td></td>\n",
        "    <td>9.5</td>\n",
        "  </tr>\n",
        "    <tr>\n",
        "    <td>Whitney Houston</td>\n",
        "    <td>The Bodyguard</td>\n",
        "    <td>1992</td>\n",
        "    <td>00:57:44</td>\n",
        "    <td>Soundtrack/R&B, soul, pop</td>\n",
        "    <td>26.1</td>\n",
        "    <td>50</td>\n",
        "    <td>25-Jul-80</td>\n",
        "    <td>Y</td>\n",
        "    <td>7.0</td>\n",
        "  </tr>\n",
        "    <tr>\n",
        "    <td>Meat Loaf</td>\n",
        "    <td>Bat Out of Hell</td>\n",
        "    <td>1977</td>\n",
        "    <td>00:46:33</td>\n",
        "    <td>Hard rock, progressive rock</td>\n",
        "    <td>20.6</td>\n",
        "    <td>43</td>\n",
        "    <td>21-Oct-77</td>\n",
        "    <td></td>\n",
        "    <td>7.0</td>\n",
        "  </tr>\n",
        "    <tr>\n",
        "    <td>Eagles</td>\n",
        "    <td>Their Greatest Hits (1971-1975)</td>\n",
        "    <td>1976</td>\n",
        "    <td>00:43:08</td>\n",
        "    <td>Rock, soft rock, folk rock</td>\n",
        "    <td>32.2</td>\n",
        "    <td>42</td>\n",
        "    <td>17-Feb-76</td>\n",
        "    <td></td>\n",
        "    <td>9.5</td>\n",
        "  </tr>\n",
        "    <tr>\n",
        "    <td>Bee Gees</td>\n",
        "    <td>Saturday Night Fever</td>\n",
        "    <td>1977</td>\n",
        "    <td>1:15:54</td>\n",
        "    <td>Disco</td>\n",
        "    <td>20.6</td>\n",
        "    <td>40</td>\n",
        "    <td>15-Nov-77</td>\n",
        "    <td>Y</td>\n",
        "    <td>9.0</td>\n",
        "  </tr>\n",
        "    <tr>\n",
        "    <td>Fleet wood Mac</td>\n",
        "    <td> Rumours </td>\n",
        "    <td>1977</td>\n",
        "    <td>00:40:01</td>\n",
        "    <td>Soft rock</td>\n",
        "    <td>27.9</td>\n",
        "    <td>40</td>\n",
        "    <td>04-Feb-77</td>\n",
        "    <td></td>\n",
        "    <td>9.5</td>\n",
        "  </tr>\n",
        "</table></font>\n"
      ],
      "metadata": {
        "id": "HFBl0QwFIKJC"
      }
    },
    {
      "cell_type": "markdown",
      "source": [
        "<hr>\n"
      ],
      "metadata": {
        "id": "xEu_n6ifIKJD"
      }
    },
    {
      "cell_type": "markdown",
      "source": [
        "<a id=\"list\"></a>\n",
        "## Lists\n"
      ],
      "metadata": {
        "id": "oD2ZW9_OIKJE"
      }
    },
    {
      "cell_type": "markdown",
      "source": [
        "\n",
        "<a id=\"index\"></a>\n",
        "## Indexing\n"
      ],
      "metadata": {
        "id": "BGcrVjqrIKJE"
      }
    },
    {
      "cell_type": "markdown",
      "source": [
        "We are going to take a look at lists in Python. A list is a sequenced collection of different objects such as integers, strings, and even other lists as well. The address of each element within a list is called an <b>index</b>. An index is used to access and refer to items within a list.\n"
      ],
      "metadata": {
        "id": "y3Vh1p_0IKJE"
      }
    },
    {
      "cell_type": "markdown",
      "source": [
        "<img src=\"https://cf-courses-data.s3.us.cloud-object-storage.appdomain.cloud/IBMDeveloperSkillsNetwork-PY0101EN-SkillsNetwork/labs/Module%202/images/ListsIndex.png\" width=\"1000\">\n"
      ],
      "metadata": {
        "id": "4xDM82WeIKJE"
      }
    },
    {
      "cell_type": "markdown",
      "source": [
        "To create a list, type the list within square brackets <b>\\[ ]</b>, with your content inside the parenthesis and separated by commas. Let us try it!\n"
      ],
      "metadata": {
        "id": "qQB26OWfIKJF"
      }
    },
    {
      "cell_type": "code",
      "source": [
        "# Create a list\n",
        "\n",
        "L = [\"Michael Jackson\", 10.1, 1982]\n",
        "L"
      ],
      "metadata": {
        "trusted": true,
        "id": "5e7IK7tPIKJF",
        "outputId": "089478ab-8bcc-4b02-bd90-2c38d607ea7b"
      },
      "outputs": [
        {
          "execution_count": 1,
          "output_type": "execute_result",
          "data": {
            "text/plain": "['Michael Jackson', 10.1, 1982]"
          },
          "metadata": {}
        }
      ],
      "execution_count": null
    },
    {
      "cell_type": "markdown",
      "source": [
        "We can use negative and regular indexing with a list:\n"
      ],
      "metadata": {
        "id": "H8PSWhA_IKJH"
      }
    },
    {
      "cell_type": "markdown",
      "source": [
        "<img src=\"https://cf-courses-data.s3.us.cloud-object-storage.appdomain.cloud/IBMDeveloperSkillsNetwork-PY0101EN-SkillsNetwork/labs/Module%202/images/ListsNeg.png\" width=\"1000\">\n"
      ],
      "metadata": {
        "id": "KIUxDt1GIKJH"
      }
    },
    {
      "cell_type": "code",
      "source": [
        "# Print the elements on each index\n",
        "\n",
        "print('the same element using negative and positive indexing:\\n Postive:',L[0],\n",
        "'\\n Negative:' , L[-3]  )\n",
        "print('the same element using negative and positive indexing:\\n Postive:',L[1],\n",
        "'\\n Negative:' , L[-2]  )\n",
        "print('the same element using negative and positive indexing:\\n Postive:',L[2],\n",
        "'\\n Negative:' , L[-1]  )"
      ],
      "metadata": {
        "trusted": true,
        "id": "GVgLDntJIKJI",
        "outputId": "11d6c01c-af75-4c2f-8489-24a06c505509"
      },
      "outputs": [
        {
          "name": "stdout",
          "text": "the same element using negative and positive indexing:\n Postive: Michael Jackson \n Negative: Michael Jackson\nthe same element using negative and positive indexing:\n Postive: 10.1 \n Negative: 10.1\nthe same element using negative and positive indexing:\n Postive: 1982 \n Negative: 1982\n",
          "output_type": "stream"
        }
      ],
      "execution_count": null
    },
    {
      "cell_type": "markdown",
      "source": [
        "<a id=\"content\"></a>\n",
        "## List Content\n"
      ],
      "metadata": {
        "id": "FxzUy2R_IKJI"
      }
    },
    {
      "cell_type": "markdown",
      "source": [
        "Lists can contain strings, floats, and integers. We can nest other lists, and we can also nest tuples and other data structures. The same indexing conventions apply for nesting:\n"
      ],
      "metadata": {
        "id": "_xW4EA2eIKJI"
      }
    },
    {
      "cell_type": "code",
      "source": [
        "# Sample List\n",
        "\n",
        "[\"Michael Jackson\", 10.1, 1982, [1, 2], (\"A\", 1)]"
      ],
      "metadata": {
        "trusted": true,
        "id": "JRaJ82dgIKJI",
        "outputId": "82742f0f-9a60-48bf-fdf2-ee0997ec2e5e"
      },
      "outputs": [
        {
          "execution_count": 3,
          "output_type": "execute_result",
          "data": {
            "text/plain": "['Michael Jackson', 10.1, 1982, [1, 2], ('A', 1)]"
          },
          "metadata": {}
        }
      ],
      "execution_count": null
    },
    {
      "cell_type": "markdown",
      "source": [
        "<a id=\"op\"></a>\n",
        "## List Operations\n"
      ],
      "metadata": {
        "id": "EefwTcHRIKJJ"
      }
    },
    {
      "cell_type": "markdown",
      "source": [
        "We can also perform slicing in lists. For example, if we want the last two elements, we use the following command:\n"
      ],
      "metadata": {
        "id": "wWsneBJ2IKJJ"
      }
    },
    {
      "cell_type": "code",
      "source": [
        "# Sample List\n",
        "\n",
        "L = [\"Michael Jackson\", 10.1,1982,\"MJ\",1]\n",
        "L"
      ],
      "metadata": {
        "trusted": true,
        "id": "1fo22meZIKJJ",
        "outputId": "7e3b665b-15b5-4f8a-b2d0-54a4073d4d3e"
      },
      "outputs": [
        {
          "execution_count": 4,
          "output_type": "execute_result",
          "data": {
            "text/plain": "['Michael Jackson', 10.1, 1982, 'MJ', 1]"
          },
          "metadata": {}
        }
      ],
      "execution_count": null
    },
    {
      "cell_type": "markdown",
      "source": [
        "<img src=\"https://cf-courses-data.s3.us.cloud-object-storage.appdomain.cloud/IBMDeveloperSkillsNetwork-PY0101EN-SkillsNetwork/labs/Module%202/images/ListsSlice.png\" width=\"1000\">\n"
      ],
      "metadata": {
        "id": "f-SGvntRIKJK"
      }
    },
    {
      "cell_type": "code",
      "source": [
        "# List slicing\n",
        "\n",
        "L[3:5]"
      ],
      "metadata": {
        "trusted": true,
        "id": "YChMRnT1IKJK",
        "outputId": "b13dc6a1-5d16-4637-b80c-5dd431e9e9bf"
      },
      "outputs": [
        {
          "execution_count": 5,
          "output_type": "execute_result",
          "data": {
            "text/plain": "['MJ', 1]"
          },
          "metadata": {}
        }
      ],
      "execution_count": null
    },
    {
      "cell_type": "markdown",
      "source": [
        "We can use the method <code>extend</code> to add new elements to the list:\n"
      ],
      "metadata": {
        "id": "acuG0XZQIKJK"
      }
    },
    {
      "cell_type": "code",
      "source": [
        "# Use extend to add elements to list\n",
        "\n",
        "L = [ \"Michael Jackson\", 10.2]\n",
        "L.extend(['pop', 10])\n",
        "L"
      ],
      "metadata": {
        "trusted": true,
        "id": "UBcj09MnIKJK",
        "outputId": "4837cde7-313e-48e3-ba72-4d599059f8e7"
      },
      "outputs": [
        {
          "execution_count": 6,
          "output_type": "execute_result",
          "data": {
            "text/plain": "['Michael Jackson', 10.2, 'pop', 10]"
          },
          "metadata": {}
        }
      ],
      "execution_count": null
    },
    {
      "cell_type": "markdown",
      "source": [
        "Another similar method is <code>append</code>. If we apply <code>append</code> instead of <code>extend</code>, we add one element to the list:\n"
      ],
      "metadata": {
        "id": "yweuiIw8IKJL"
      }
    },
    {
      "cell_type": "code",
      "source": [
        "# Use append to add elements to list\n",
        "\n",
        "L = [ \"Michael Jackson\", 10.2]\n",
        "L.append(['pop', 10])\n",
        "L"
      ],
      "metadata": {
        "trusted": true,
        "id": "KES2HZ9ZIKJL",
        "outputId": "051033c1-2ae6-40da-d33d-474a54c03fea"
      },
      "outputs": [
        {
          "execution_count": 7,
          "output_type": "execute_result",
          "data": {
            "text/plain": "['Michael Jackson', 10.2, ['pop', 10]]"
          },
          "metadata": {}
        }
      ],
      "execution_count": null
    },
    {
      "cell_type": "markdown",
      "source": [
        "Each time we apply a method, the list changes. If we apply <code>extend</code> we add two new elements to the list. The list <code>L</code> is then modified by adding two new elements:\n"
      ],
      "metadata": {
        "id": "KFg_71HdIKJL"
      }
    },
    {
      "cell_type": "code",
      "source": [
        "# Use extend to add elements to list\n",
        "\n",
        "L = [ \"Michael Jackson\", 10.2]\n",
        "L.extend(['pop', 10])\n",
        "L"
      ],
      "metadata": {
        "trusted": true,
        "id": "zx9_BZj4IKJL",
        "outputId": "564694e1-3cdc-4ec8-9a29-cc66bee27d35"
      },
      "outputs": [
        {
          "execution_count": 8,
          "output_type": "execute_result",
          "data": {
            "text/plain": "['Michael Jackson', 10.2, 'pop', 10]"
          },
          "metadata": {}
        }
      ],
      "execution_count": null
    },
    {
      "cell_type": "markdown",
      "source": [
        "If we append the list  <code>\\['a','b']</code> we have one new element consisting of a nested list:\n"
      ],
      "metadata": {
        "id": "Cx101C7RIKJM"
      }
    },
    {
      "cell_type": "code",
      "source": [
        "# Use append to add elements to list\n",
        "\n",
        "L.append(['a','b'])\n",
        "L"
      ],
      "metadata": {
        "trusted": true,
        "id": "rKuG1EmnIKJM",
        "outputId": "347b066d-3407-4e3a-c36e-f2900a3e0873"
      },
      "outputs": [
        {
          "execution_count": 9,
          "output_type": "execute_result",
          "data": {
            "text/plain": "['Michael Jackson', 10.2, 'pop', 10, ['a', 'b']]"
          },
          "metadata": {}
        }
      ],
      "execution_count": null
    },
    {
      "cell_type": "markdown",
      "source": [
        "As lists are mutable, we can change them. For example, we can change the first element as follows:\n"
      ],
      "metadata": {
        "id": "8Rd4NymWIKJM"
      }
    },
    {
      "cell_type": "code",
      "source": [
        "# Change the element based on the index\n",
        "\n",
        "A = [\"disco\", 10, 1.2]\n",
        "print('Before change:', A)\n",
        "A[0] = 'hard rock'\n",
        "print('After change:', A)"
      ],
      "metadata": {
        "trusted": true,
        "id": "IihwgwM4IKJM",
        "outputId": "edd653ca-baf5-49c9-b761-dca33b2b069c"
      },
      "outputs": [
        {
          "name": "stdout",
          "text": "Before change: ['disco', 10, 1.2]\nAfter change: ['hard rock', 10, 1.2]\n",
          "output_type": "stream"
        }
      ],
      "execution_count": null
    },
    {
      "cell_type": "markdown",
      "source": [
        "We can also delete an element of a list using the <code>del</code> command:\n"
      ],
      "metadata": {
        "id": "UTBqIZLLIKJN"
      }
    },
    {
      "cell_type": "code",
      "source": [
        "# Delete the element based on the index\n",
        "\n",
        "print('Before change:', A)\n",
        "del(A[0])\n",
        "print('After change:', A)"
      ],
      "metadata": {
        "trusted": true,
        "id": "7pT8LOYkIKJN",
        "outputId": "24ab16a2-2639-440d-817d-2392344dca29"
      },
      "outputs": [
        {
          "name": "stdout",
          "text": "Before change: ['hard rock', 10, 1.2]\nAfter change: [10, 1.2]\n",
          "output_type": "stream"
        }
      ],
      "execution_count": null
    },
    {
      "cell_type": "markdown",
      "source": [
        "We can convert a string to a list using <code>split</code>.  For example, the method <code>split</code> translates every group of characters separated by a space into an element in a list:\n"
      ],
      "metadata": {
        "id": "HVqwFiaIIKJN"
      }
    },
    {
      "cell_type": "code",
      "source": [
        "# Split the string, default is by space\n",
        "\n",
        "'hard rock'.split()"
      ],
      "metadata": {
        "trusted": true,
        "id": "Or8CWuD5IKJN",
        "outputId": "7d088483-fa9e-47e2-c6d6-6d1c4e178d4c"
      },
      "outputs": [
        {
          "execution_count": 12,
          "output_type": "execute_result",
          "data": {
            "text/plain": "['hard', 'rock']"
          },
          "metadata": {}
        }
      ],
      "execution_count": null
    },
    {
      "cell_type": "markdown",
      "source": [
        "We can use the split function to separate strings on a specific character which we call a **delimiter**. We pass the character we would like to split on into the argument, which in this case is a comma.  The result is a list, and each element corresponds to a set of characters that have been separated by a comma:\n"
      ],
      "metadata": {
        "id": "JLrL04mTIKJO"
      }
    },
    {
      "cell_type": "code",
      "source": [
        "# Split the string by comma\n",
        "\n",
        "'A,B,C,D'.split(',')"
      ],
      "metadata": {
        "trusted": true,
        "id": "wuLJMyHpIKJO",
        "outputId": "13b18171-46ab-4546-b929-b212da1280da"
      },
      "outputs": [
        {
          "execution_count": 13,
          "output_type": "execute_result",
          "data": {
            "text/plain": "['A', 'B', 'C', 'D']"
          },
          "metadata": {}
        }
      ],
      "execution_count": null
    },
    {
      "cell_type": "markdown",
      "source": [
        "<a id=\"co\"></a>\n",
        "## Copy and Clone List\n"
      ],
      "metadata": {
        "id": "8MkxiDgpIKJO"
      }
    },
    {
      "cell_type": "markdown",
      "source": [
        "When we set one variable <b>B</b> equal to <b>A</b>, both <b>A</b> and <b>B</b> are referencing the same list in memory:\n"
      ],
      "metadata": {
        "id": "aOtUPVueIKJP"
      }
    },
    {
      "cell_type": "code",
      "source": [
        "# Copy (copy by reference) the list A\n",
        "\n",
        "A = [\"hard rock\", 10, 1.2]\n",
        "B = A\n",
        "print('A:', A)\n",
        "print('B:', B)"
      ],
      "metadata": {
        "trusted": true,
        "id": "3Fhl5OvKIKJP",
        "outputId": "a5a594c6-5acc-4d05-a082-b8a8bbd96ccf"
      },
      "outputs": [
        {
          "name": "stdout",
          "text": "A: ['hard rock', 10, 1.2]\nB: ['hard rock', 10, 1.2]\n",
          "output_type": "stream"
        }
      ],
      "execution_count": null
    },
    {
      "cell_type": "markdown",
      "source": [
        "<img src=\"https://cf-courses-data.s3.us.cloud-object-storage.appdomain.cloud/IBMDeveloperSkillsNetwork-PY0101EN-SkillsNetwork/labs/Module%202/images/ListsRef.png\" width=\"1000\" align=\"center\">\n"
      ],
      "metadata": {
        "id": "7RC9bvpmIKJQ"
      }
    },
    {
      "cell_type": "markdown",
      "source": [
        "Initially, the value of the first element in <b>B</b> is set as \"hard rock\". If we change the first element in <b>A</b> to <b>\"banana\"</b>, we get an unexpected side effect.  As <b>A</b> and <b>B</b> are referencing the same list, if we change list <b>A</b>, then list <b>B</b> also changes. If we check the first element of <b>B</b> we get \"banana\" instead of \"hard rock\":\n"
      ],
      "metadata": {
        "id": "FhQLg2g9IKJQ"
      }
    },
    {
      "cell_type": "code",
      "source": [
        "# Examine the copy by reference\n",
        "\n",
        "print('B[0]:', B[0])\n",
        "A[0] = \"banana\"\n",
        "print('B[0]:', B[0])"
      ],
      "metadata": {
        "trusted": true,
        "id": "Rmzbif8fIKJR",
        "outputId": "0bf3bd40-922f-4ea5-fd28-ed12074f6b61"
      },
      "outputs": [
        {
          "name": "stdout",
          "text": "B[0]: hard rock\nB[0]: banana\n",
          "output_type": "stream"
        }
      ],
      "execution_count": null
    },
    {
      "cell_type": "markdown",
      "source": [
        "This is demonstrated in the following figure:\n"
      ],
      "metadata": {
        "id": "Jkwqbi8qIKJR"
      }
    },
    {
      "cell_type": "markdown",
      "source": [
        "<img src=\"https://cf-courses-data.s3.us.cloud-object-storage.appdomain.cloud/IBMDeveloperSkillsNetwork-PY0101EN-SkillsNetwork/labs/Module%202/images/ListsRefGif.gif\" width=\"1000\">\n"
      ],
      "metadata": {
        "id": "oKJlKzIcIKJR"
      }
    },
    {
      "cell_type": "markdown",
      "source": [
        "You can clone list **A** by using  the following syntax:\n"
      ],
      "metadata": {
        "id": "1hcGl5XJIKJR"
      }
    },
    {
      "cell_type": "code",
      "source": [
        "# Clone (clone by value) the list A\n",
        "\n",
        "B = A[:]\n",
        "B"
      ],
      "metadata": {
        "trusted": true,
        "id": "lBYL8bcWIKJS",
        "outputId": "79063a5f-57b2-467e-88e5-439b53e0f764"
      },
      "outputs": [
        {
          "execution_count": 16,
          "output_type": "execute_result",
          "data": {
            "text/plain": "['banana', 10, 1.2]"
          },
          "metadata": {}
        }
      ],
      "execution_count": null
    },
    {
      "cell_type": "markdown",
      "source": [
        "Variable **B** references a new copy or clone of the original list. This is demonstrated in the following figure:\n"
      ],
      "metadata": {
        "id": "60EDIvMwIKJS"
      }
    },
    {
      "cell_type": "markdown",
      "source": [
        "<img src=\"https://cf-courses-data.s3.us.cloud-object-storage.appdomain.cloud/IBMDeveloperSkillsNetwork-PY0101EN-SkillsNetwork/labs/Module%202/images/ListsVal.gif\" width=\"1000\">\n"
      ],
      "metadata": {
        "id": "WiRFU0-4IKJS"
      }
    },
    {
      "cell_type": "markdown",
      "source": [
        "Now if you change <b>A</b>, <b>B</b> will not change:\n"
      ],
      "metadata": {
        "id": "CMwTd3tAIKJS"
      }
    },
    {
      "cell_type": "code",
      "source": [
        "print('B[0]:', B[0])\n",
        "A[0] = \"hard rock\"\n",
        "print('B[0]:', B[0])"
      ],
      "metadata": {
        "trusted": true,
        "id": "aVR5SX_KIKJS",
        "outputId": "0fd2cd93-ad0b-4745-fd4f-514a1d4f42db"
      },
      "outputs": [
        {
          "name": "stdout",
          "text": "B[0]: banana\nB[0]: banana\n",
          "output_type": "stream"
        }
      ],
      "execution_count": null
    },
    {
      "cell_type": "markdown",
      "source": [
        "<a id=\"quiz\"></a>\n",
        "## Quiz on List\n"
      ],
      "metadata": {
        "id": "YGeq-lI_IKJS"
      }
    },
    {
      "cell_type": "markdown",
      "source": [
        "Create a list <code>a_list</code>, with the following elements <code>1</code>, <code>hello</code>, <code>\\[1,2,3]</code> and <code>True</code>.\n"
      ],
      "metadata": {
        "id": "NL6sr0CDIKJS"
      }
    },
    {
      "cell_type": "code",
      "source": [
        "# Write your code below and press Shift+Enter to execute\n",
        "a_list = [1, 'hello', [1, 2, 3] , True]\n",
        "a_list"
      ],
      "metadata": {
        "trusted": true,
        "id": "Cjc2v4OgIKJT",
        "outputId": "c4923ace-7034-4bba-dfe6-ec860478b493"
      },
      "outputs": [
        {
          "execution_count": 18,
          "output_type": "execute_result",
          "data": {
            "text/plain": "[1, 'hello', [1, 2, 3], True]"
          },
          "metadata": {}
        }
      ],
      "execution_count": null
    },
    {
      "cell_type": "markdown",
      "source": [
        "<details><summary>Click here for the solution</summary>\n",
        "\n",
        "```python\n",
        "a_list = [1, 'hello', [1, 2, 3] , True]\n",
        "a_list\n",
        "\n",
        "```\n",
        "\n",
        "</details>\n"
      ],
      "metadata": {
        "id": "TqeelK6XIKJT"
      }
    },
    {
      "cell_type": "markdown",
      "source": [
        "Find the value stored at index 1 of <code>a_list</code>.\n"
      ],
      "metadata": {
        "id": "1PkUrRTCIKJT"
      }
    },
    {
      "cell_type": "code",
      "source": [
        "# Write your code below and press Shift+Enter to execute\n",
        "a_list[1]"
      ],
      "metadata": {
        "trusted": true,
        "id": "3kYeS89oIKJT",
        "outputId": "2037d5d4-ede7-4d12-e0e9-d0c235b34483"
      },
      "outputs": [
        {
          "execution_count": 19,
          "output_type": "execute_result",
          "data": {
            "text/plain": "'hello'"
          },
          "metadata": {}
        }
      ],
      "execution_count": null
    },
    {
      "cell_type": "markdown",
      "source": [
        "<details><summary>Click here for the solution</summary>\n",
        "\n",
        "```python\n",
        "a_list[1]\n",
        "\n",
        "```\n",
        "\n",
        "</details>\n"
      ],
      "metadata": {
        "id": "BA6RboHBIKJT"
      }
    },
    {
      "cell_type": "markdown",
      "source": [
        "Retrieve the elements stored at index 1, 2 and 3 of <code>a_list</code>.\n"
      ],
      "metadata": {
        "id": "fCbHlHE6IKJT"
      }
    },
    {
      "cell_type": "code",
      "source": [
        "# Write your code below and press Shift+Enter to execute\n",
        "a_list[1:4]"
      ],
      "metadata": {
        "trusted": true,
        "id": "vnXjWUbDIKJT",
        "outputId": "036cfd7c-8ad0-46a3-bfbe-625ae0f9c5b7"
      },
      "outputs": [
        {
          "execution_count": 20,
          "output_type": "execute_result",
          "data": {
            "text/plain": "['hello', [1, 2, 3], True]"
          },
          "metadata": {}
        }
      ],
      "execution_count": null
    },
    {
      "cell_type": "markdown",
      "source": [
        "<details><summary>Click here for the solution</summary>\n",
        "\n",
        "```python\n",
        "a_list[1:4]\n",
        "\n",
        "```\n",
        "\n",
        "</details>\n"
      ],
      "metadata": {
        "id": "9dNsqLl4IKJT"
      }
    },
    {
      "cell_type": "markdown",
      "source": [
        "Concatenate the following lists <code>A = \\[1, 'a']</code> and <code>B = \\[2, 1, 'd']</code>:\n"
      ],
      "metadata": {
        "id": "4394r5MTIKJU"
      }
    },
    {
      "cell_type": "code",
      "source": [
        "# Write your code below and press Shift+Enter to execute\n",
        "A = [1, 'a']\n",
        "B = [2, 1, 'd']\n",
        "A + B"
      ],
      "metadata": {
        "trusted": true,
        "id": "bBkYrC6UIKJU",
        "outputId": "98fff45c-bf35-4887-c292-56f3e88dbfd3"
      },
      "outputs": [
        {
          "execution_count": 21,
          "output_type": "execute_result",
          "data": {
            "text/plain": "[1, 'a', 2, 1, 'd']"
          },
          "metadata": {}
        }
      ],
      "execution_count": null
    },
    {
      "cell_type": "markdown",
      "source": [
        "<details><summary>Click here for the solution</summary>\n",
        "\n",
        "```python\n",
        "A = [1, 'a']\n",
        "B = [2, 1, 'd']\n",
        "A + B\n",
        "\n",
        "```\n",
        "\n",
        "</details>\n"
      ],
      "metadata": {
        "id": "GQqg5s5jIKJU"
      }
    },
    {
      "cell_type": "markdown",
      "source": [
        "<a id=\"Scenario\"></a>\n",
        "## Scenario : Shopping list\n"
      ],
      "metadata": {
        "id": "kx7P2iRYIKJU"
      }
    },
    {
      "cell_type": "markdown",
      "source": [
        "# Task-1  Create an empty list\n",
        "At first we need to create a empty list for storing the items to buy in Shopping list.\n"
      ],
      "metadata": {
        "id": "iMKOgITsIKJU"
      }
    },
    {
      "cell_type": "code",
      "source": [
        "#Type your code here\n",
        "Shopping_list=[]"
      ],
      "metadata": {
        "trusted": true,
        "id": "1iCOYxlpIKJU"
      },
      "outputs": [],
      "execution_count": null
    },
    {
      "cell_type": "markdown",
      "source": [
        "<details><summary>Click here for the solution</summary>\n",
        "\n",
        "```python\n",
        "Shopping_list=[]\n",
        "\n",
        "```\n",
        "\n",
        "</details>\n"
      ],
      "metadata": {
        "id": "ossBc2nyIKJU"
      }
    },
    {
      "cell_type": "markdown",
      "source": [
        "# Task-2 Now store the number of items to the shopping_list\n",
        "* Watch\n",
        "* Laptop\n",
        "* Shoes\n",
        "* Pen\n",
        "* Clothes\n",
        "\n",
        "\n",
        "<br>\n",
        "\n"
      ],
      "metadata": {
        "id": "u-hesnU7IKJU"
      }
    },
    {
      "cell_type": "code",
      "source": [
        "#Type your code here\n",
        "Shopping_list=[\"Watch\",\"Laptop\",\"Shoes\",\"Pen\",\"Clothes\"]"
      ],
      "metadata": {
        "trusted": true,
        "id": "1cKK5vDzIKJU"
      },
      "outputs": [],
      "execution_count": null
    },
    {
      "cell_type": "markdown",
      "source": [
        "<details><summary>Click here for the hint </summary>\n",
        "\n",
        "```python\n",
        "Hint:- Directly store every item as a different string in the list.\n",
        "\n",
        "```\n",
        "\n",
        "</details>\n"
      ],
      "metadata": {
        "id": "Q_sFVDzYIKJV"
      }
    },
    {
      "cell_type": "markdown",
      "source": [
        "<details><summary>Click here for the solution</summary>\n",
        "\n",
        "```python\n",
        "Shopping_list=[\"Watch\",\"Laptop\",\"Shoes\",\"Pen\",\"Clothes\"]\n",
        "\n",
        "```\n",
        "\n",
        "</details>\n"
      ],
      "metadata": {
        "id": "qanY4SGSIKJV"
      }
    },
    {
      "cell_type": "markdown",
      "source": [
        "# Task-3 Add a new item to the shopping_list\n",
        "Seems like I missed one item \"Football\" to add in the shopping list.\n",
        "<br>\n"
      ],
      "metadata": {
        "id": "FAXYK4BOIKJV"
      }
    },
    {
      "cell_type": "code",
      "source": [
        "#Type your code here\n",
        "Shopping_list.append(\"Football\")"
      ],
      "metadata": {
        "trusted": true,
        "id": "ovyASgGWIKJV"
      },
      "outputs": [],
      "execution_count": null
    },
    {
      "cell_type": "markdown",
      "source": [
        "<details><summary>Click here for the hint </summary>\n",
        "\n",
        "```python\n",
        "Hint:- Use `Append()` method for adding \"Football\" to our shopping list\n",
        "\n",
        "```\n",
        "\n",
        "</details>\n"
      ],
      "metadata": {
        "id": "qoQ83DWZIKJV"
      }
    },
    {
      "cell_type": "markdown",
      "source": [
        "<details><summary>Click here for the solution</summary>\n",
        "\n",
        "```python\n",
        "Shopping_list.append(\"Football\")\n",
        "\n",
        "```\n",
        "\n",
        "</details>\n"
      ],
      "metadata": {
        "id": "j2LAC79YIKJV"
      }
    },
    {
      "cell_type": "markdown",
      "source": [
        "# Task-4 Print First item from the shopping_list\n",
        "Let's check the first item that we need to buy.\n",
        "<br>\n"
      ],
      "metadata": {
        "id": "Panfj5IuIKJV"
      }
    },
    {
      "cell_type": "code",
      "source": [
        "#Type your code here\n",
        "print(Shopping_list[0])"
      ],
      "metadata": {
        "trusted": true,
        "id": "i2W9fwhLIKJV",
        "outputId": "51b0d978-7bcf-4967-ab73-764848c621ef"
      },
      "outputs": [
        {
          "name": "stdout",
          "text": "Watch\n",
          "output_type": "stream"
        }
      ],
      "execution_count": null
    },
    {
      "cell_type": "markdown",
      "source": [
        "<details><summary>Click here for the hint </summary>\n",
        "\n",
        "```python\n",
        "**Hint:-** Use `indexing` for checking the first item.\n",
        "\n",
        "```\n",
        "\n",
        "</details>\n"
      ],
      "metadata": {
        "id": "nnJWx4U5IKJV"
      }
    },
    {
      "cell_type": "markdown",
      "source": [
        "<details><summary>Click here for the solution</summary>\n",
        "\n",
        "```python\n",
        "print(Shopping_list[0])\n",
        "\n",
        "```\n",
        "\n",
        "</details>\n"
      ],
      "metadata": {
        "id": "em97GOtAIKJV"
      }
    },
    {
      "cell_type": "markdown",
      "source": [
        "# Task-5 Print Last item from the shopping_list\n",
        "Let's check the last time that we need to buy.\n",
        "<br>\n"
      ],
      "metadata": {
        "id": "A66Ql6q4IKJW"
      }
    },
    {
      "cell_type": "code",
      "source": [
        "#Type your code here\n",
        "print(Shopping_list[-1])"
      ],
      "metadata": {
        "trusted": true,
        "id": "Oeyb-bTOIKJW",
        "outputId": "3d0b2bba-6b36-4ab6-ccd5-70fe81f9a087"
      },
      "outputs": [
        {
          "name": "stdout",
          "text": "Football\n",
          "output_type": "stream"
        }
      ],
      "execution_count": null
    },
    {
      "cell_type": "markdown",
      "source": [
        "<details><summary>Click here for the hint </summary>\n",
        "\n",
        "```python\n",
        "Hint:- Use `indexing` for checking for last item.\n",
        "\n",
        "```\n",
        "\n",
        "</details>\n"
      ],
      "metadata": {
        "id": "n6fO-9JXIKJW"
      }
    },
    {
      "cell_type": "markdown",
      "source": [
        "<details><summary>Click here for the solution</summary>\n",
        "\n",
        "```python\n",
        "print(Shopping_list[-1])\n",
        "\n",
        "```\n",
        "\n",
        "</details>\n"
      ],
      "metadata": {
        "id": "3RYL5KKkIKJW"
      }
    },
    {
      "cell_type": "markdown",
      "source": [
        "# Task-6 Print the entire Shopping List\n"
      ],
      "metadata": {
        "id": "wUva1f5cIKJW"
      }
    },
    {
      "cell_type": "code",
      "source": [
        "#Type your code here.\n",
        "print(Shopping_list)"
      ],
      "metadata": {
        "trusted": true,
        "id": "xmwMqOYSIKJW",
        "outputId": "3ae49dfc-5ba8-4937-b0ca-8a887d06a5b7"
      },
      "outputs": [
        {
          "name": "stdout",
          "text": "['Watch', 'Laptop', 'Shoes', 'Pen', 'Clothes', 'Football']\n",
          "output_type": "stream"
        }
      ],
      "execution_count": null
    },
    {
      "cell_type": "markdown",
      "source": [
        "<details><summary>Click here for the solution</summary>\n",
        "\n",
        "```python\n",
        "print(Shopping_list)\n",
        "\n",
        "```\n",
        "\n",
        "</details>\n"
      ],
      "metadata": {
        "id": "uociasfAIKJW"
      }
    },
    {
      "cell_type": "markdown",
      "source": [
        "# Task-7 Print the item that are important to buy from the Shopping List\n",
        "Print \"Laptop\" and \"shoes\"\n"
      ],
      "metadata": {
        "id": "tXV1EBsiIKJW"
      }
    },
    {
      "cell_type": "code",
      "source": [
        "#Type your code here\n",
        "print(Shopping_list[1:3])"
      ],
      "metadata": {
        "trusted": true,
        "id": "Kc7Avj_IIKJW",
        "outputId": "4a128ac8-33be-4dbe-ea48-d9831f072fe9"
      },
      "outputs": [
        {
          "name": "stdout",
          "text": "['Laptop', 'Shoes']\n",
          "output_type": "stream"
        }
      ],
      "execution_count": null
    },
    {
      "cell_type": "markdown",
      "source": [
        "<details><summary>Click here for the hint </summary>\n",
        "\n",
        "```python\n",
        "Hint:- Use `slicing` to print \"Laptop\" and \"Shoes\"\n",
        "\n",
        "```\n",
        "\n",
        "</details>\n"
      ],
      "metadata": {
        "id": "bSG9JYZFIKJW"
      }
    },
    {
      "cell_type": "markdown",
      "source": [
        "<details><summary>Click here for the solution</summary>\n",
        "\n",
        "```python\n",
        "print(Shopping_list[1:3])\n",
        "\n",
        "```\n",
        "\n",
        "</details>\n"
      ],
      "metadata": {
        "id": "kBRYSGqYIKJX"
      }
    },
    {
      "cell_type": "markdown",
      "source": [
        "# Task-8 Change the item from the shopping_list\n",
        "Instead of <u>\"Pen\"</u> I want to buy <u>\"Notebook\"</u>\n",
        "let's change the item stored in the list.\n",
        "<br>\n",
        "\n"
      ],
      "metadata": {
        "id": "ZrTqn2zkIKJX"
      }
    },
    {
      "cell_type": "code",
      "source": [
        "#Type your code here\n",
        "Shopping_list[3] = \"Notebook\""
      ],
      "metadata": {
        "trusted": true,
        "id": "jehm4EUxIKJX"
      },
      "outputs": [],
      "execution_count": null
    },
    {
      "cell_type": "markdown",
      "source": [
        "<details><summary>Click here for the hint </summary>\n",
        "\n",
        "```python\n",
        "Hint:- Locate the item you want to change using `index`, and Update the item with the new desired value using `string`.\n",
        "\n",
        "```\n",
        "\n",
        "</details>\n"
      ],
      "metadata": {
        "id": "1b2xpvR1IKJX"
      }
    },
    {
      "cell_type": "markdown",
      "source": [
        "<details><summary>Click here for the solution</summary>\n",
        "\n",
        "```python\n",
        "Shopping_list[3] = \"Notebook\"\n",
        "\n",
        "```\n",
        "\n",
        "</details>\n"
      ],
      "metadata": {
        "id": "2iWdKym_IKJX"
      }
    },
    {
      "cell_type": "markdown",
      "source": [
        "# Task-9 Delete the item from the shopping_list that is not required\n",
        "Let's delete items that are unimportant, such as; I don't want to buy <u>Clothes</u>, let's delete it.\n",
        "<br>\n",
        "\n"
      ],
      "metadata": {
        "id": "-XcZ9HUtIKJX"
      }
    },
    {
      "cell_type": "code",
      "source": [
        "#Type your code here\n",
        "del (Shopping_list[4])"
      ],
      "metadata": {
        "trusted": true,
        "id": "4H2oFuC1IKJX"
      },
      "outputs": [],
      "execution_count": null
    },
    {
      "cell_type": "markdown",
      "source": [
        "<details><summary>Click here for the hint </summary>\n",
        "\n",
        "```python\n",
        "Hint:- Use `del` method for deleting.\n",
        "\n",
        "```\n",
        "\n",
        "</details>\n"
      ],
      "metadata": {
        "id": "ncxDZuibIKJX"
      }
    },
    {
      "cell_type": "markdown",
      "source": [
        "<details><summary>Click here for the solution</summary>\n",
        "\n",
        "```python\n",
        "del (shopping_list[4])\n",
        "\n",
        "```\n",
        "\n",
        "</details>\n"
      ],
      "metadata": {
        "id": "ybyDA7E1IKJX"
      }
    },
    {
      "cell_type": "markdown",
      "source": [
        "# Task-10 Print the shopping list\n",
        "We are ready with our shopping list.\n"
      ],
      "metadata": {
        "id": "w1XtT584IKJX"
      }
    },
    {
      "cell_type": "code",
      "source": [
        "# Type your code here\n",
        "print(Shopping_list)"
      ],
      "metadata": {
        "trusted": true,
        "id": "sV7N8Cq2IKJX",
        "outputId": "3ace6456-cc08-4b21-84ce-5522009879aa"
      },
      "outputs": [
        {
          "name": "stdout",
          "text": "['Watch', 'Laptop', 'Shoes', 'Notebook', 'Football']\n",
          "output_type": "stream"
        }
      ],
      "execution_count": null
    },
    {
      "cell_type": "markdown",
      "source": [
        "<details><summary>Click here for the solution</summary>\n",
        "\n",
        "```python\n",
        "print(Shopping_list)\n",
        "\n",
        "```\n",
        "\n",
        "</details>\n"
      ],
      "metadata": {
        "id": "QFHPUOmTIKJY"
      }
    },
    {
      "cell_type": "markdown",
      "source": [
        "<hr>\n",
        "<h2>The last exercise!</h2>\n",
        "<p>Congratulations, you have completed your first lesson and hands-on lab in Python.\n",
        "<hr>\n"
      ],
      "metadata": {
        "id": "bm_ANtt4IKJY"
      }
    },
    {
      "cell_type": "markdown",
      "source": [
        "## Author\n",
        "\n",
        "<a href=\"https://www.linkedin.com/in/joseph-s-50398b136/?utm_medium=Exinfluencer&utm_source=Exinfluencer&utm_content=000026UJ&utm_term=10006555&utm_id=NA-SkillsNetwork-Channel-SkillsNetworkCoursesIBMDeveloperSkillsNetworkPY0101ENSkillsNetwork19487395-2021-01-01\" target=\"_blank\">Joseph Santarcangelo</a>\n",
        "\n",
        "## Other contributors\n",
        "\n",
        "<a href=\"https://www.linkedin.com/in/jiahui-mavis-zhou-a4537814a?utm_medium=Exinfluencer&utm_source=Exinfluencer&utm_content=000026UJ&utm_term=10006555&utm_id=NA-SkillsNetwork-Channel-SkillsNetworkCoursesIBMDeveloperSkillsNetworkPY0101ENSkillsNetwork19487395-2021-01-01\">Mavis Zhou</a>\n",
        "\n",
        "## Change Log\n",
        "\n",
        "| Date (YYYY-MM-DD) | Version | Changed By | Change Description                 |\n",
        "| ----------------- | ------- | ---------- | ---------------------------------- |\n",
        "| 2023-05-12        | 2.2     |Akansha yadav| Updated lab with scenario         |\n",
        "| 2022-01-10        | 2.1     | Malika     | Removed the readme for GitShare    |\n",
        "| 2020-08-26        | 2.0     | Lavanya    | Moved lab to course repo in GitLab |\n",
        "|                   |         |            |                                    |\n",
        "|                   |         |            |                                    |\n",
        "\n",
        "## <h3 align=\"center\"> © IBM Corporation 2023. All rights reserved. <h3/>\n"
      ],
      "metadata": {
        "id": "3CiM48G4IKJY"
      }
    },
    {
      "cell_type": "code",
      "source": [],
      "metadata": {
        "id": "Fvgy-N7eIKJY"
      },
      "outputs": [],
      "execution_count": null
    }
  ]
}